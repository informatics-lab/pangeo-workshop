{
 "cells": [
  {
   "cell_type": "markdown",
   "metadata": {},
   "source": [
    "## Creating Environments with Conda\n",
    "\n",
    "If you require new packages you can make you own conda environment\n",
    "\n",
    "In the terminal (click the **`+`** in the top right of this page and select terminal from the luncher):\n",
    "\n",
    "```bash\n",
    "conda init bash # Ensure conda setup\n",
    "```\n",
    "\n",
    "Close and reopen the terminal\n",
    "\n",
    "```bash\n",
    "conda create --name my-new-env -y\n",
    "conda activate my-new-env\n",
    "```\n",
    "\n",
    "Install packages in your active environment using `conda install`.<br>\n",
    "The latest versions of most open source packages are available on the channel `conda-forge`.\n",
    "\n",
    "```bash\n",
    "conda install -c conda-forge name-of-package1 name-of-package2 -y\n",
    "```"
   ]
  },
  {
   "cell_type": "markdown",
   "metadata": {},
   "source": [
    "## Adding conda environment to kernel list/launcher\n",
    "\n",
    "Installing `ipykernel` to make your environment available on Jupyter Lab\n",
    "```bash\n",
    "conda install ipykernel -y \n",
    "```\n",
    "The following line installs your conda environment as an `ipykernel`\n",
    "```bash\n",
    "python -m ipykernel install --name \"my-env\" --display-name \"My Env\" --user \n",
    "```\n",
    "\n",
    "Now refresh your web browser. \"My Env\" is now avaliable from the launcher."
   ]
  }
 ],
 "metadata": {
  "kernelspec": {
   "display_name": "Python 3",
   "language": "python",
   "name": "python3"
  },
  "language_info": {
   "codemirror_mode": {
    "name": "ipython",
    "version": 3
   },
   "file_extension": ".py",
   "mimetype": "text/x-python",
   "name": "python",
   "nbconvert_exporter": "python",
   "pygments_lexer": "ipython3",
   "version": "3.7.1"
  }
 },
 "nbformat": 4,
 "nbformat_minor": 4
}
