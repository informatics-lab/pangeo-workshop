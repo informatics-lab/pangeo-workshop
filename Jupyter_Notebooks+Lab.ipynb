{
 "cells": [
  {
   "cell_type": "markdown",
   "metadata": {
    "extensions": {
     "jupyter_dashboards": {
      "version": 1,
      "views": {
       "grid_default": {
        "col": 0,
        "height": 2,
        "hidden": false,
        "row": 0,
        "width": 11
       },
       "report_default": {
        "hidden": false
       }
      }
     }
    },
    "nbpresent": {
     "id": "7fbd286b-2306-43da-9e48-6d480907b81a"
    }
   },
   "source": [
    "# Jupyter Notebooks"
   ]
  },
  {
   "cell_type": "markdown",
   "metadata": {
    "extensions": {
     "jupyter_dashboards": {
      "version": 1,
      "views": {
       "grid_default": {
        "hidden": true
       },
       "report_default": {
        "hidden": false
       }
      }
     }
    },
    "nbpresent": {
     "id": "2f705832-cecf-4725-9380-703263507684"
    }
   },
   "source": [
    "A Notebook is made up of a series of executable cells. Cells can contain plain text:"
   ]
  },
  {
   "cell_type": "markdown",
   "metadata": {
    "extensions": {
     "jupyter_dashboards": {
      "version": 1,
      "views": {
       "grid_default": {
        "col": 0,
        "height": 14,
        "hidden": false,
        "row": 13,
        "width": 6
       },
       "report_default": {
        "hidden": false
       }
      }
     }
    }
   },
   "source": [
    "## Today\n",
    "- Cloudy with rain across Scotland and Northern Ireland, the rain heavy in the west with strong winds.\n",
    "- Some early mist or fog across England and Wales, soon clearing to a mostly dry day with sunny spells; sunniest in the east.\n",
    "\n",
    "## Tonight\n",
    "- Further cloud and rain for Scotland and Northern Ireland, heavy in places.\n",
    "- There'll be some clear spells further south, but despite this it will be very mild overnight.\n",
    "\n",
    "## Tuesday\n",
    "- Very warm and sunny across much of England, cloudier with possible heavy downpours in some western parts.\n",
    "- Remaining unsettled across Scotland and Northern Ireland, sunny spells elsewhere."
   ]
  },
  {
   "cell_type": "markdown",
   "metadata": {
    "extensions": {
     "jupyter_dashboards": {
      "version": 1,
      "views": {
       "grid_default": {
        "col": 7,
        "height": 4,
        "hidden": true,
        "row": 33,
        "width": 4
       },
       "report_default": {}
      }
     }
    }
   },
   "source": [
    "or Latex:"
   ]
  },
  {
   "cell_type": "markdown",
   "metadata": {
    "extensions": {
     "jupyter_dashboards": {
      "version": 1,
      "views": {
       "grid_default": {
        "col": 7,
        "height": 4,
        "hidden": true,
        "row": 29,
        "width": 4
       },
       "report_default": {}
      }
     }
    }
   },
   "source": [
    "$$c = \\sqrt{a^2 + b^2}$$"
   ]
  },
  {
   "cell_type": "code",
   "execution_count": 1,
   "metadata": {
    "collapsed": false,
    "extensions": {
     "jupyter_dashboards": {
      "version": 1,
      "views": {
       "grid_default": {
        "hidden": true
       },
       "report_default": {
        "hidden": false
       }
      }
     }
    },
    "jupyter": {
     "outputs_hidden": false
    }
   },
   "outputs": [
    {
     "name": "stdout",
     "output_type": "stream",
     "text": [
      "or Python.\n"
     ]
    }
   ],
   "source": [
    "print('or Python.')"
   ]
  },
  {
   "cell_type": "code",
   "execution_count": 2,
   "metadata": {
    "collapsed": false,
    "extensions": {
     "jupyter_dashboards": {
      "version": 1,
      "views": {
       "grid_default": {
        "hidden": true
       },
       "report_default": {
        "hidden": false
       }
      }
     }
    },
    "jupyter": {
     "outputs_hidden": false
    },
    "nbpresent": {
     "id": "3ef7f792-1909-4ee5-980b-fab0b14407f3"
    }
   },
   "outputs": [
    {
     "name": "stdout",
     "output_type": "stream",
     "text": [
      "Each cell is separate from the others...\n",
      "and can be re-executed on the fly\n"
     ]
    }
   ],
   "source": [
    "print('Each cell is separate from the others...')\n",
    "print('and can be re-executed on the fly')"
   ]
  },
  {
   "cell_type": "markdown",
   "metadata": {
    "extensions": {
     "jupyter_dashboards": {
      "version": 1,
      "views": {
       "grid_default": {
        "col": 4,
        "height": 4,
        "hidden": true,
        "row": 26,
        "width": 4
       },
       "report_default": {
        "hidden": false
       }
      }
     }
    },
    "nbpresent": {
     "id": "cd22d5e9-5043-4e59-bcea-cc7905942e5b"
    }
   },
   "source": [
    "## Multimedia"
   ]
  },
  {
   "cell_type": "markdown",
   "metadata": {
    "extensions": {
     "jupyter_dashboards": {
      "version": 1,
      "views": {
       "grid_default": {
        "hidden": true
       },
       "report_default": {
        "hidden": false
       }
      }
     }
    },
    "nbpresent": {
     "id": "6207cc6f-e096-4d94-9ba7-796ab4c95f8f"
    }
   },
   "source": [
    "You can include images, videos and charts in your notebook:"
   ]
  },
  {
   "cell_type": "markdown",
   "metadata": {
    "extensions": {
     "jupyter_dashboards": {
      "version": 1,
      "views": {
       "grid_default": {
        "col": 6,
        "height": 19,
        "hidden": false,
        "row": 2,
        "width": 6
       },
       "report_default": {
        "hidden": false
       }
      }
     }
    },
    "nbpresent": {
     "id": "1c277640-3432-4ab6-b08c-1991d0923d47"
    }
   },
   "source": [
    "![](https://metofficenews.files.wordpress.com/2013/05/satellite-and-rain-14-may-2013.jpg)"
   ]
  },
  {
   "cell_type": "code",
   "execution_count": 3,
   "metadata": {
    "collapsed": false,
    "extensions": {
     "jupyter_dashboards": {
      "version": 1,
      "views": {
       "grid_default": {
        "col": 0,
        "height": 11,
        "hidden": false,
        "row": 2,
        "width": 5
       },
       "report_default": {
        "hidden": false
       }
      }
     }
    },
    "jupyter": {
     "outputs_hidden": false
    },
    "nbpresent": {
     "id": "0a13dba0-e113-466a-8b7e-33ae83284533"
    }
   },
   "outputs": [
    {
     "data": {
      "image/jpeg": "[encoded data removed]",
      "text/html": [
       "\n",
       "        <iframe\n",
       "            width=\"400\"\n",
       "            height=\"300\"\n",
       "            src=\"https://www.youtube.com/embed/lqZ-uJIRv2w\"\n",
       "            frameborder=\"0\"\n",
       "            allowfullscreen\n",
       "        ></iframe>\n",
       "        "
      ],
      "text/plain": [
       "<IPython.lib.display.YouTubeVideo at 0x7feb2c1265f8>"
      ]
     },
     "execution_count": 3,
     "metadata": {},
     "output_type": "execute_result"
    }
   ],
   "source": [
    "from IPython.display import YouTubeVideo\n",
    "YouTubeVideo(\"lqZ-uJIRv2w\")"
   ]
  },
  {
   "cell_type": "code",
   "execution_count": 1,
   "metadata": {
    "collapsed": false,
    "extensions": {
     "jupyter_dashboards": {
      "version": 1,
      "views": {
       "grid_default": {
        "col": 0,
        "height": 4,
        "hidden": true,
        "row": 13,
        "width": 12
       },
       "report_default": {
        "hidden": false
       }
      }
     }
    },
    "jupyter": {
     "outputs_hidden": false
    },
    "nbpresent": {
     "id": "4b2df5a7-7ba2-455e-93ad-0db27f0cdd70"
    },
    "scrolled": true
   },
   "outputs": [
    {
     "data": {
      "image/png": "[encoded data removed]",
      "text/plain": [
       "<Figure size 432x288 with 1 Axes>"
      ]
     },
     "metadata": {
      "needs_background": "light"
     },
     "output_type": "display_data"
    }
   ],
   "source": [
    "%matplotlib inline\n",
    "import matplotlib\n",
    "import numpy as np\n",
    "import matplotlib.pyplot as plt\n",
    "\n",
    "x = np.linspace(0, 6*np.pi, 500)\n",
    "plt.plot(x, np.sin(x**2))\n",
    "plt.title('A simple chirp')\n",
    "plt.show()"
   ]
  },
  {
   "cell_type": "markdown",
   "metadata": {
    "extensions": {
     "jupyter_dashboards": {
      "version": 1,
      "views": {
       "grid_default": {
        "hidden": true
       },
       "report_default": {
        "hidden": false
       }
      }
     }
    },
    "nbpresent": {
     "id": "e9936387-4b5e-4a8e-b32f-c4c7cd37e0b2"
    }
   },
   "source": [
    "## Sharing Notebooks"
   ]
  },
  {
   "cell_type": "markdown",
   "metadata": {
    "extensions": {
     "jupyter_dashboards": {
      "version": 1,
      "views": {
       "grid_default": {
        "hidden": true
       },
       "report_default": {
        "hidden": false
       }
      }
     }
    },
    "nbpresent": {
     "id": "b80d70e3-0048-4255-9f9a-11f5e9de9861"
    }
   },
   "source": [
    "Each Notebook can be saved and shared easily. You can:\n",
    "\n",
    "- Compute the output in advance and share the notebook as a static webpage\n",
    "    - File > Download As > (HTML, PDF)\n",
    "- Share the notebook itself, allowing someone else to experiment\n",
    "    - File > Download as > (Notebook, Python)\n",
    "- Use the notebook as a dashboard\n",
    "    - View > Dashboard Layout + Dashboard Preview"
   ]
  },
  {
   "cell_type": "markdown",
   "metadata": {
    "extensions": {
     "jupyter_dashboards": {
      "version": 1,
      "views": {
       "grid_default": {
        "col": 0,
        "height": 4,
        "hidden": false,
        "row": 27,
        "width": 12
       },
       "report_default": {}
      }
     }
    }
   },
   "source": [
    "## Further info\n",
    "\n",
    "There are a lot of great examples out there:\n",
    "* You can learn more about the Python programming language in the [official tutorial](https://docs.python.org/3/tutorial/)\n",
    "* You can see example notebooks at [NBViewer](https://nbviewer.jupyter.org)\n",
    "* Or the the [IPython examples](https://github.com/ipython/ipython/wiki/A-gallery-of-interesting-IPython-Notebooks)"
   ]
  },
  {
   "cell_type": "markdown",
   "metadata": {},
   "source": [
    "## QuickGuide\n",
    "\n",
    "**Cell command shortcuts:** </br>\n",
    "* **a** : Insert a new cell above the current cell \n",
    "* **b** : Insert a new cell below\n",
    "* **x** : Delete cell\n",
    "* **m** : Change cell to Markdown\n",
    "* **y** : Change cell to code\n",
    "* **Esc** : Command mode (change and move whole cells)\n",
    "* **Enter** : Edit mode (edit content of cell)\n",
    "* **Shift + Enter** : Run cell"
   ]
  },
  {
   "cell_type": "markdown",
   "metadata": {},
   "source": [
    "------"
   ]
  },
  {
   "cell_type": "markdown",
   "metadata": {},
   "source": [
    "# Jupyter Lab\n",
    "Jupyter Lab is a web based user interface that lets you work with Jupyter Notebooks along side a file browser, terminals, text editors and other graphical components.<br>\n",
    "It is similar to an Integrated Development Environment (IDE) that you would run on your laptop/desktop, such as PyCharm or VSCode.\n",
    "\n",
    "![Jupyter Lab Interface](images/jupyterlab_interface.png)"
   ]
  },
  {
   "cell_type": "markdown",
   "metadata": {},
   "source": [
    "## Features\n",
    "Key features that will be useful for you:\n",
    "- File browser on the left hand side\n",
    "  - The folders higher up the directory tree are along the top\n",
    "  - Clicking on the folder tab (left hand edge) hides the file browser; useful for gaining more screen space for your notebooks\n",
    "- Jupyter notebooks, text files, terminal sessions, etc. in the main body of the screen.\n",
    "  - These are organised as tabbed windows, and can be rearranged into any order you wish by clicking and dragging\n",
    "  - Windows can also be resized to fit your screen better\n",
    "- More extensions can be accessed through the tabs on the left hand edge of the screen\n",
    "  - Have a look at what extensions are available by clicking through the tabs"
   ]
  },
  {
   "cell_type": "markdown",
   "metadata": {},
   "source": [
    "## Further Info\n",
    "More intformation can be found at these links:\n",
    "- Jupyter Lab [Documentation](https://jupyterlab.readthedocs.io/en/stable/getting_started/overview.html)\n",
    "- Jupyter Lab [guidelines](https://ipython-books.github.io/36-introducing-jupyterlab/)\n",
    "- 10 minute [YouTube introduction](https://www.youtube.com/watch?v=ctOM-Gza04Y)\n",
    "- 45 minute [YouTube introduction](https://www.youtube.com/watch?v=w7jq4XgwLJQ)\n",
    "- You can browse a list of [Jupyter Lab extensions](https://www.npmjs.com/search?q=keywords%3Ajupyterlab-extension)"
   ]
  },
  {
   "cell_type": "code",
   "execution_count": null,
   "metadata": {},
   "outputs": [],
   "source": []
  }
 ],
 "metadata": {
  "anaconda-cloud": {},
  "extensions": {
   "jupyter_dashboards": {
    "activeView": "grid_default",
    "version": 1,
    "views": {
     "grid_default": {
      "cellMargin": 10,
      "defaultCellHeight": 20,
      "maxColumns": 12,
      "name": "grid",
      "type": "grid"
     },
     "report_default": {
      "name": "report",
      "type": "report"
     }
    }
   }
  },
  "kernelspec": {
   "display_name": "Python 3",
   "language": "python",
   "name": "python3"
  },
  "language_info": {
   "codemirror_mode": {
    "name": "ipython",
    "version": 3
   },
   "file_extension": ".py",
   "mimetype": "text/x-python",
   "name": "python",
   "nbconvert_exporter": "python",
   "pygments_lexer": "ipython3",
   "version": "3.7.1"
  },
  "nbpresent": {
   "slides": {
    "8a90c9e9-499f-48c8-a261-0fbee518ab1c": {
     "id": "8a90c9e9-499f-48c8-a261-0fbee518ab1c",
     "prev": "caa0d9ea-a0ac-4650-b470-5fe31f990a31",
     "regions": {
      "42b66131-b87f-4e89-a2f3-23d253b81e71": {
       "attrs": {
        "height": 1,
        "width": 1,
        "x": 0,
        "y": 0
       },
       "id": "42b66131-b87f-4e89-a2f3-23d253b81e71"
      }
     }
    },
    "caa0d9ea-a0ac-4650-b470-5fe31f990a31": {
     "id": "caa0d9ea-a0ac-4650-b470-5fe31f990a31",
     "layout": "grid",
     "prev": null,
     "regions": {
      "0620a9bb-affb-45b0-be2e-75e1898b4b3b": {
       "attrs": {
        "height": 1,
        "pad": 0.01,
        "treemap:weight": 1,
        "width": 1,
        "x": -0.08333333333333333,
        "y": 0.16666666666666666
       },
       "id": "0620a9bb-affb-45b0-be2e-75e1898b4b3b"
      },
      "63dea976-1c0f-4c1e-ab31-ed5b5ea2905d": {
       "attrs": {
        "height": 0.8333333333333334,
        "pad": 0.01,
        "width": 0.8333333333333334,
        "x": 0.08333333333333333,
        "y": 0
       },
       "id": "63dea976-1c0f-4c1e-ab31-ed5b5ea2905d"
      }
     }
    }
   },
   "themes": {}
  }
 },
 "nbformat": 4,
 "nbformat_minor": 4
}
