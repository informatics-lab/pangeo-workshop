{
 "cells": [
  {
   "cell_type": "markdown",
   "metadata": {},
   "source": [
    "<img src=\"images/iris_logo_color.png\" alt=\"Iris\" style=\"height: 250px;\"/> \n",
    "\n",
    "# Iris \n",
    "\n",
    "At the Met Office we maintain a python library called [Iris](https://scitools.org.uk/iris/docs/latest/userguide/index.html) for working with gridded model data.  \n",
    "\n",
    "Iris implements a data model based on the [CF conventions](http://cfconventions.org/) giving you a powerful, format-agnostic interface for working with your data. It excels when working with multi-dimensional Earth Science data, where tabular representations become unwieldy and inefficient. \n",
    "\n",
    "Here is an introduction to loading and plotting data with Iris."
   ]
  },
  {
   "cell_type": "markdown",
   "metadata": {},
   "source": [
    "---------"
   ]
  },
  {
   "cell_type": "markdown",
   "metadata": {},
   "source": [
    "## Introduction to the Iris Cube<a id='intro_to_iris_cube'></a> \n",
    "#### Heavily borrowed from [SciTools Iris Course Material](https://github.com/SciTools/courses/). <br>For more detailed examples please click the link and follow the instructions on the GitHub repository"
   ]
  },
  {
   "cell_type": "markdown",
   "metadata": {},
   "source": [
    "The top level object in Iris is called a Cube. A Cube contains data and metadata about a single phenomenon and is an implementation of the data model interpreted from the *Climate and Forecast (CF) Metadata Conventions*.\n",
    "\n",
    "Each cube has:\n",
    "\n",
    " * A data array (typically a NumPy array).\n",
    " * A \"name\", preferably a CF \"standard name\" to describe the phenomenon that the cube represents.\n",
    " * A collection of coordinates to describe each of the dimensions of the data array. These coordinates are split into two types:\n",
    "    * Dimension Coordinates are numeric, monotonic and represent a single dimension of the data array. There may be only one Dimension Coordinate per data dimension.\n",
    "    * Auxilliary Coordinates can be of any type, including discrete values such as strings, and may represent more than one data dimension.\n",
    "\n",
    "A fuller explanation is available in the [Iris user guide](http://scitools.org.uk/iris/docs/latest/userguide/iris_cubes.html)."
   ]
  },
  {
   "cell_type": "markdown",
   "metadata": {},
   "source": [
    "Let's take a simple example to demonstrate the Cube concept.\n",
    "\n",
    "Suppose we have a ``(3, 2, 4)`` NumPy array:\n",
    "\n",
    "![](images/iris_multi_array.png)\n"
   ]
  },
  {
   "cell_type": "markdown",
   "metadata": {},
   "source": [
    "Where dimensions 0, 1, and 2 have lengths 3, 2 and 4 respectively.\n",
    "\n",
    "The Iris Cube to represent this data may consist of:\n",
    "\n",
    " * a standard name of \"air_temperature\" and units of \"kelvin\"\n",
    "\n",
    " * a data array of shape ``(3, 2, 4)``\n",
    "\n",
    " * a coordinate, mapping to dimension 0, consisting of:\n",
    "     * a standard name of \"height\" and units of \"meters\"\n",
    "     * an array of length 3 representing the 3 height points\n",
    "     \n",
    " * a coordinate, mapping to dimension 1, consisting of:\n",
    "     * a standard name of \"latitude\" and units of \"degrees\"\n",
    "     * an array of length 2 representing the 2 latitude points\n",
    "     * a coordinate system such that the latitude points could be fully located on the globe\n",
    "     \n",
    " * a coordinate, mapping to dimension 2, consisting of:\n",
    "     * a standard name of \"longitude\" and units of \"degrees\"\n",
    "     * an array of length 4 representing the 4 longitude points\n",
    "     * a coordinate system such that the longitude points could be fully located on the globe"
   ]
  },
  {
   "cell_type": "markdown",
   "metadata": {},
   "source": [
    "Pictorially the Cube has taken on more information than a simple array:\n",
    "\n",
    "![](images/iris_multi_array_to_cube.png)"
   ]
  },
  {
   "cell_type": "markdown",
   "metadata": {},
   "source": [
    "-------"
   ]
  },
  {
   "cell_type": "markdown",
   "metadata": {},
   "source": [
    "## Loading and plotting data"
   ]
  },
  {
   "cell_type": "markdown",
   "metadata": {},
   "source": [
    "We have made some UK weather forecast data available on this Pangeo platform in form of netCDF files.\n",
    "\n",
    "The files are located in the `/aws-earth-nc-files/` directory. Iris can access this directory and knows how to load netCDF files. <br>"
   ]
  },
  {
   "cell_type": "code",
   "execution_count": null,
   "metadata": {},
   "outputs": [],
   "source": [
    "import cartopy.crs as ccrs      # Cartopy handles map projections\n",
    "import matplotlib.pyplot as plt # Matplotlib is a plotting library\n",
    "\n",
    "import iris\n",
    "import iris.plot as iplt        # iris.plot provides simple plotting of cubes\n",
    "import iris.quickplot as qplt   # iris.quickplot provides richer plotting of cubes"
   ]
  },
  {
   "cell_type": "code",
   "execution_count": null,
   "metadata": {},
   "outputs": [],
   "source": [
    "# We use the load_cube function to load the air_temperature cube from a netCDF file\n",
    "\n",
    "temperature = iris.load_cube(\"/aws-earth-nc-files/mo-atmospheric-ukv-prd/air_temperature/2019-09-17 20:00:00/0.nc\", 'air_temperature')\n",
    "temperature"
   ]
  },
  {
   "cell_type": "markdown",
   "metadata": {},
   "source": [
    "This gives us an expressive representation of the metadata of the cube. We can see attributes of the cube such as which organisation and model it was generated by, dimension coordinates which describe its shape, and a name and units to describe the data itself."
   ]
  },
  {
   "cell_type": "markdown",
   "metadata": {},
   "source": [
    "We can use `qplt.contourf` to easily plot a 2D, filled contour plot of our cube."
   ]
  },
  {
   "cell_type": "code",
   "execution_count": null,
   "metadata": {},
   "outputs": [],
   "source": [
    "# Plot #1: contourf with axes longitude from -180 to 180\n",
    "plt.figure(figsize=(24, 24))\n",
    "plt.subplot(121)\n",
    "qplt.contourf(temperature, 15)\n",
    "plt.gca().coastlines('50m')"
   ]
  },
  {
   "cell_type": "markdown",
   "metadata": {},
   "source": [
    "This gives us a static plot generated using `matplotlib` (under the hood)."
   ]
  },
  {
   "cell_type": "markdown",
   "metadata": {},
   "source": [
    "Next we can use `cartopy` to easily make the same `qplt.contourf` plot with a different projection (specifically [Plate Carrée](https://en.wikipedia.org/?title=Plate_carr%C3%A9e_projection&redirect=yes) projection)"
   ]
  },
  {
   "cell_type": "code",
   "execution_count": null,
   "metadata": {},
   "outputs": [],
   "source": [
    "# Plot #2: contourf reprojected onto Plate Carrée projection\n",
    "plt.figure(figsize=(24, 24))\n",
    "proj = ccrs.PlateCarree(central_longitude=-90.0)\n",
    "plt.subplot(122, projection=proj)\n",
    "qplt.contourf(temperature, 15)\n",
    "plt.gca().coastlines('50m')\n",
    "iplt.show()"
   ]
  }
 ],
 "metadata": {
  "kernelspec": {
   "display_name": "Python 3",
   "language": "python",
   "name": "python3"
  },
  "language_info": {
   "codemirror_mode": {
    "name": "ipython",
    "version": 3
   },
   "file_extension": ".py",
   "mimetype": "text/x-python",
   "name": "python",
   "nbconvert_exporter": "python",
   "pygments_lexer": "ipython3",
   "version": "3.7.1"
  }
 },
 "nbformat": 4,
 "nbformat_minor": 4
}
