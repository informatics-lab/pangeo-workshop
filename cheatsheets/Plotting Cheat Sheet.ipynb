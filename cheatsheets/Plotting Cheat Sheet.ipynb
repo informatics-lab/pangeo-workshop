{
 "cells": [
  {
   "cell_type": "markdown",
   "metadata": {},
   "source": [
    "## Plotting Libraries"
   ]
  },
  {
   "cell_type": "markdown",
   "metadata": {},
   "source": [
    "**Link to PyViz plotting libraries:** </br> https://pyviz.org/tools.html"
   ]
  },
  {
   "cell_type": "markdown",
   "metadata": {},
   "source": [
    "**Python Vis Libraries:** </br>\n",
    "* [Plotting with Iris](https://scitools.org.uk/iris/docs/latest/userguide/plotting_a_cube.html)\n",
    "* [Bokeh](https://docs.bokeh.org/en/latest/)\n",
    "  * [Bokeh notebook examples](https://github.com/bokeh/bokeh-notebooks)\n",
    "* [Holoviews](http://holoviews.org)\n",
    "* [Geoviews](http://geoviews.org)\n",
    "* [Matplotlib](https://matplotlib.org/3.1.1/tutorials/index.html#introductory)\n",
    "* [HoloViz](https://holoviz.org/)"
   ]
  },
  {
   "cell_type": "markdown",
   "metadata": {},
   "source": [
    "**Tephigram:** </br> http://pypi.org/project/tephi"
   ]
  }
 ],
 "metadata": {
  "kernelspec": {
   "display_name": "Python 3",
   "language": "python",
   "name": "python3"
  },
  "language_info": {
   "codemirror_mode": {
    "name": "ipython",
    "version": 3
   },
   "file_extension": ".py",
   "mimetype": "text/x-python",
   "name": "python",
   "nbconvert_exporter": "python",
   "pygments_lexer": "ipython3",
   "version": "3.7.1"
  }
 },
 "nbformat": 4,
 "nbformat_minor": 4
}
