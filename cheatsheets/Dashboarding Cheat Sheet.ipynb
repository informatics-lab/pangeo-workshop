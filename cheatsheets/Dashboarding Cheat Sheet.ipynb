{
 "cells": [
  {
   "cell_type": "markdown",
   "metadata": {},
   "source": [
    "## Dashboarding Cheat Sheet"
   ]
  },
  {
   "cell_type": "markdown",
   "metadata": {},
   "source": [
    "**Dashboarding Tools:** \n",
    "* [Jupyter Sidecar](https://github.com/jupyter-widgets/jupyterlab-sidecar)\n",
    "* [Plotly Dash](https://dash-gallery.plotly.host/Portal/)\n",
    "* [Bokeh](https://docs.bokeh.org/en/latest/docs/gallery.html)\n",
    "* [Voila](https://github.com/voila-dashboards/voila)\n",
    "* [IPython](https://ipython.readthedocs.io/en/stable/interactive/)\n",
    "* [Jupyter Dashboards](https://pypi.org/project/jupyter_dashboards/0.7.0/)\n",
    "* [Sidecar Tip](https://twitter.com/sylvaincorlay/status/1029495925473980416?lang=en)"
   ]
  },
  {
   "cell_type": "markdown",
   "metadata": {},
   "source": [
    "**Blog Posts:**\n",
    "* [Voila, Panel and Dash - Some of our thoughts (The Informatics Lab)](https://medium.com/informatics-lab/jupyter-dashboarding-some-thoughts-on-voila-panel-and-dash-b84df9c9482f)\n",
    "* [And Voila!](https://blog.jupyter.org/and-voil%C3%A0-f6a2c08a4a93)\n",
    "* [How to build a dashboard using dash and plotly](https://towardsdatascience.com/how-to-build-a-complex-reporting-dashboard-using-dash-and-plotl-4f4257c18a7f)\n",
    "* [Build your own data dashboard](https://towardsdatascience.com/build-your-own-data-dashboard-93e4848a0dcf)\n",
    "* [Live Python Dashboards](https://pusher.com/tutorials/live-dashboard-python)"
   ]
  },
  {
   "cell_type": "markdown",
   "metadata": {},
   "source": [
    "**Dashboarding Examples:**\n",
    "* https://jupyter-dashboards-layout.readthedocs.io/en/latest/\n",
    "* https://blog.jupyter.org/a-gallery-of-voil%C3%A0-examples-a2ce7ef99130"
   ]
  }
 ],
 "metadata": {
  "kernelspec": {
   "display_name": "Python 3",
   "language": "python",
   "name": "python3"
  },
  "language_info": {
   "codemirror_mode": {
    "name": "ipython",
    "version": 3
   },
   "file_extension": ".py",
   "mimetype": "text/x-python",
   "name": "python",
   "nbconvert_exporter": "python",
   "pygments_lexer": "ipython3",
   "version": "3.7.1"
  }
 },
 "nbformat": 4,
 "nbformat_minor": 4
}
