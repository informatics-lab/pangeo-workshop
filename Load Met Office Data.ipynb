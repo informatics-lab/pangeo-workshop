{
 "cells": [
  {
   "cell_type": "markdown",
   "metadata": {},
   "source": [
    "<img src=\"images/met_office_logo.png\" alt=\"Met Office\" style=\"height: 250px;\"/> \n",
    "\n",
    "# Met Office Data\n",
    "\n",
    "We have made the latest UK weather forecast data available on this Pangeo platform in form of netCDF files.\n",
    "\n",
    "This includes seven days of the `UKV` and `Mogreps-UK` forecast model outputs\n",
    "\n",
    "The files are located in the `/aws-earth-nc-files/` directory. Iris can access this directory and knows how to load netCDF files."
   ]
  },
  {
   "cell_type": "markdown",
   "metadata": {},
   "source": [
    "-----\n",
    "\n",
    "## Setup\n",
    "\n",
    "We can simply access this data using Iris."
   ]
  },
  {
   "cell_type": "code",
   "execution_count": null,
   "metadata": {},
   "outputs": [],
   "source": [
    "import iris\n",
    "from iris.experimental.equalise_cubes import equalise_attributes\n",
    "import os\n",
    "import iris_sample_data"
   ]
  },
  {
   "cell_type": "markdown",
   "metadata": {},
   "source": [
    "## Exploring files\n",
    "\n",
    "Here are some helper functions to show defined to help you explore the files."
   ]
  },
  {
   "cell_type": "code",
   "execution_count": null,
   "metadata": {},
   "outputs": [],
   "source": [
    "BASE_PATH=\"/aws-earth-nc-files/\"\n",
    "\n",
    "def get_models():\n",
    "    return [p for p in os.listdir(BASE_PATH) if not p ==  'medium_type_cloud_area_fraction']\n",
    "\n",
    "def get_params(model):\n",
    "    return os.listdir(os.path.join(BASE_PATH, model))\n",
    "\n",
    "def get_runs(model, param):    \n",
    "    return os.listdir(os.path.join(BASE_PATH, model, param))"
   ]
  },
  {
   "cell_type": "markdown",
   "metadata": {},
   "source": [
    "We have two model outputs available; `UKV` and `Mogreps-UK`"
   ]
  },
  {
   "cell_type": "code",
   "execution_count": null,
   "metadata": {},
   "outputs": [],
   "source": [
    "get_models()"
   ]
  },
  {
   "cell_type": "markdown",
   "metadata": {},
   "source": [
    "There are many parameters available for each model."
   ]
  },
  {
   "cell_type": "code",
   "execution_count": null,
   "metadata": {},
   "outputs": [],
   "source": [
    "get_params('mo-atmospheric-ukv-prd')[:10]"
   ]
  },
  {
   "cell_type": "markdown",
   "metadata": {},
   "source": [
    "For each parameter in a model there are a number of forecast runs. Each run is for a specific `forecast reference time`."
   ]
  },
  {
   "cell_type": "code",
   "execution_count": null,
   "metadata": {},
   "outputs": [],
   "source": [
    "get_runs('mo-atmospheric-ukv-prd', 'air_temperature')[-10:]"
   ]
  },
  {
   "cell_type": "markdown",
   "metadata": {},
   "source": [
    "## Load data using Iris"
   ]
  },
  {
   "cell_type": "markdown",
   "metadata": {},
   "source": [
    "We have made another helper function for you to load a specific run of a parameter from a particular model.\n",
    "\n",
    "Please play around with loading the data in different ways, but do be aware that if you try to load too many datasets at once it may take a very long time.\n",
    "\n",
    "If you encounter problems with loading, restarting your kernel by pressing the `⟳` button at the top of the notebook.\n",
    "\n",
    "**(We are aware that this could be better implemented, and we have done experiments on this in the past, but at present that functionality is not available - this is an experimental platform after all!)**"
   ]
  },
  {
   "cell_type": "code",
   "execution_count": null,
   "metadata": {},
   "outputs": [],
   "source": [
    "def iris_load(model, param, date_time):\n",
    "    cubes = iris.load(os.path.join(BASE_PATH, model, param, date_time, \"*\"))\n",
    "    equalise_attributes(cubes)\n",
    "    cube = cubes.concatenate()\n",
    "    assert len(cube) == 1\n",
    "    return cube[0]"
   ]
  },
  {
   "cell_type": "code",
   "execution_count": null,
   "metadata": {},
   "outputs": [],
   "source": [
    "cube = iris_load('mo-atmospheric-ukv-prd', 'air_temperature', '2019-10-17 10:00:00')\n",
    "cube"
   ]
  }
 ],
 "metadata": {
  "kernelspec": {
   "display_name": "Python 3",
   "language": "python",
   "name": "python3"
  },
  "language_info": {
   "codemirror_mode": {
    "name": "ipython",
    "version": 3
   },
   "file_extension": ".py",
   "mimetype": "text/x-python",
   "name": "python",
   "nbconvert_exporter": "python",
   "pygments_lexer": "ipython3",
   "version": "3.7.1"
  }
 },
 "nbformat": 4,
 "nbformat_minor": 4
}
